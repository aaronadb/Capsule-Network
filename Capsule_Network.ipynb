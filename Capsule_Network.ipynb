{
  "nbformat": 4,
  "nbformat_minor": 0,
  "metadata": {
    "colab": {
      "name": "Capsule Network.ipynb",
      "provenance": [],
      "collapsed_sections": []
    },
    "kernelspec": {
      "name": "python3",
      "display_name": "Python 3"
    },
    "accelerator": "GPU"
  },
  "cells": [
    {
      "cell_type": "code",
      "metadata": {
        "id": "Eih7757wjgtI"
      },
      "source": [
        "import numpy as np\n",
        "import torch\n",
        "import torch.nn as nn\n",
        "import torch.nn.functional as F\n",
        "from torch.autograd import Variable\n",
        "from torchvision import datasets\n",
        "import torchvision.transforms as transforms\n",
        "from tqdm import tqdm\n",
        "import math"
      ],
      "execution_count": 1,
      "outputs": []
    },
    {
      "cell_type": "code",
      "metadata": {
        "id": "PPhs4YVkQ96P"
      },
      "source": [
        "def squash(input):\n",
        "  squared_norm=(input**2).sum(dim=-1,keepdim=True)\n",
        "  output=squared_norm*input/((1.+squared_norm)*torch.sqrt(squared_norm))\n",
        "  return output"
      ],
      "execution_count": 2,
      "outputs": []
    },
    {
      "cell_type": "code",
      "metadata": {
        "id": "2gq7d3mpjWfD"
      },
      "source": [
        "def to_one_hot(x,size):\n",
        "    x_one_hot=torch.zeros(x.size()[0],size)\n",
        "    for i in range(x.size()[0]):\n",
        "        x_one_hot[i,x[i]]=1.0\n",
        "    return x_one_hot"
      ],
      "execution_count": 3,
      "outputs": []
    },
    {
      "cell_type": "code",
      "metadata": {
        "id": "-uA-IS-wj7O-"
      },
      "source": [
        "class Conv(nn.Module):\n",
        "  def __init__(self,input_num_channels=1,output_num_channels=256,k_size=9):\n",
        "    super(Conv,self).__init__()\n",
        "    self.convolution=nn.Conv2d(in_channels=input_num_channels,out_channels=output_num_channels,kernel_size=[k_size,k_size],stride=1,bias=True)\n",
        "  def forward(self,input):\n",
        "    #input size is (batch_size, 1, 28, 28)\n",
        "    output=self.convolution(input)\n",
        "    output=F.relu(output)\n",
        "    #output size is (batch_size, 256, 20, 20)\n",
        "    return output"
      ],
      "execution_count": 4,
      "outputs": []
    },
    {
      "cell_type": "code",
      "metadata": {
        "id": "72K4K1mcl0Cf"
      },
      "source": [
        "class Primary_Caps(nn.Module):\n",
        "  def __init__(self,num_caps=32,input_channels=256,output_channels=8,k_size=9):\n",
        "    super(Primary_Caps,self).__init__()\n",
        "    self.primary_capsules=nn.ModuleList([nn.Conv2d(in_channels=input_channels, out_channels=output_channels,kernel_size=[k_size,k_size],stride=2,bias=True)for _ in range(num_caps)])\n",
        "  def forward(self,input):\n",
        "    #input size is (batch_size, 256, 20, 20)\n",
        "    output=[p_c(input) for p_c in self.primary_capsules]\n",
        "    output=torch.stack(output, dim=1)\n",
        "    #output size is (batch_size, 32, 8, 6, 6)\n",
        "    output=torch.transpose(output,1,2)\n",
        "    #output size is (batch_size, 8, 32, 6, 6)\n",
        "    output=torch.reshape(output,(batch_size,-1,output.size()[1]))\n",
        "    #output size is (batch_size, 32*6*6, 8)\n",
        "    output=squash(output)\n",
        "    return output"
      ],
      "execution_count": 5,
      "outputs": []
    },
    {
      "cell_type": "code",
      "metadata": {
        "id": "eBl8aMT_wP2D"
      },
      "source": [
        "class Digit_Caps(nn.Module):\n",
        "  def __init__(self,num_caps=10,input_size=8,output_size=16,num_routes=1152):\n",
        "    super(Digit_Caps,self).__init__()\n",
        "    self.num_caps=num_caps\n",
        "    self.num_routes=num_routes\n",
        "    self.W=nn.Parameter(torch.randn((batch_size,num_routes,num_caps,output_size,input_size)))\n",
        "  def forward(self,input):\n",
        "    #input size is (batch_size, 32*6*6, 8)\n",
        "    #W size is (batch_size, 32*6*6, 10, 16, 8) \n",
        "    input=torch.stack([input] * self.num_caps, dim=2).unsqueeze(4)\n",
        "    #input size is (batch_size, 32*6*6, 10, 8, 1)\n",
        "    u_hat=torch.matmul(self.W,input)\n",
        "    #u_hat size is (batch_size, 32*6*6, 10, 16, 1)\n",
        "    b=Variable(torch.zeros(batch_size,self.num_routes,self.num_caps,1))\n",
        "    #b size is (batch_size, 32*6*6, 10, 1)\n",
        "    b=b.cuda()\n",
        "    for i in range(0,3,1):\n",
        "      c=F.softmax(b,dim=1).unsqueeze(4)\n",
        "      #c size is (batch_size, 32*6*6, 10, 1, 1)\n",
        "      s=c*u_hat\n",
        "      #s size is (batch_size, 32*6*6, 10, 16, 1)\n",
        "      s=s.sum(dim=1 ,keepdim=True)\n",
        "      #s size is (batch_size, 1, 10, 16, 1)\n",
        "      v=squash(s)\n",
        "      #v size is (batch_size, 1, 10, 16, 1)\n",
        "      if i<2:\n",
        "        a=torch.matmul(u_hat.transpose(3, 4), torch.cat([v] * self.num_routes, dim=1))\n",
        "        #a size is (batch_size, 32*6*6, 10, 1, 1)\n",
        "        b=b+a.squeeze(4).mean(dim=0, keepdim=True)\n",
        "        #b size is (batch_size, 32*6*6, 10, 1)\n",
        "    return v.squeeze(1)"
      ],
      "execution_count": 6,
      "outputs": []
    },
    {
      "cell_type": "code",
      "metadata": {
        "id": "LhDiAtgcvkB1"
      },
      "source": [
        "class Decoder(nn.Module):\n",
        "  def __init__(self,input_size=160,decoder1_size=512,decoder2_size=1024,output_size=784,img_height=28,img_width=28,img_channels=1):\n",
        "    super(Decoder,self).__init__()\n",
        "    self.num_channels=img_channels\n",
        "    self.height=img_height\n",
        "    self.width=img_width\n",
        "    self.linear1=nn.Linear(in_features=input_size,out_features=decoder1_size,bias=True)\n",
        "    self.linear2=nn.Linear(in_features=decoder1_size,out_features=decoder2_size,bias=True)\n",
        "    self.linear3=nn.Linear(in_features=decoder2_size,out_features=output_size,bias=True)\n",
        "  def forward(self,input):\n",
        "    #input size is (batch_size, 10, 16, 1)\n",
        "    classes=torch.sqrt((input**2).sum(2))\n",
        "    classes=F.softmax(classes, dim=0)\n",
        "    #classes size is (batch_size, 10, 1)\n",
        "    _,max_length_indices=classes.max(dim=1)\n",
        "    #max_length_indices size is (batch_size, 1)\n",
        "    masked=Variable(torch.sparse.torch.eye(10))\n",
        "    masked=masked.cuda()\n",
        "    masked=masked.index_select(dim=0,index=Variable(max_length_indices.squeeze(1).data))\n",
        "    #masked size is (batch_size, 10)\n",
        "    input=(input*masked[:,:,None,None]).view(input.size(0),-1)\n",
        "    #input size is (batch_size, 160)\n",
        "    output=self.linear1(input)\n",
        "    output=F.relu(output)\n",
        "    #output size is (batch_size, 512)\n",
        "    output=self.linear2(output)\n",
        "    output=F.relu(output)\n",
        "    #output size is (batch_size, 1024)\n",
        "    output=self.linear3(output)\n",
        "    output=F.relu(output)\n",
        "    #output size is (batch_size, 784)\n",
        "    output=torch.reshape(output,(batch_size,self.num_channels,self.height,self.width))\n",
        "    #output size is (batch_size, 1, 28, 28)\n",
        "    return output, masked"
      ],
      "execution_count": 7,
      "outputs": []
    },
    {
      "cell_type": "code",
      "metadata": {
        "id": "uKrLPu6a0J1J"
      },
      "source": [
        "class CapsNet(nn.Module):\n",
        "  def __init__(self):\n",
        "    super(CapsNet,self).__init__()\n",
        "    self.conv=Conv()\n",
        "    self.p_cap=Primary_Caps()\n",
        "    self.d_cap=Digit_Caps()\n",
        "    self.dec=Decoder()\n",
        "  def forward(self,input):\n",
        "    out_conv=self.conv(input)\n",
        "    out_p_c=self.p_cap(out_conv)\n",
        "    output=self.d_cap(out_p_c)\n",
        "    rec,mask=self.dec(output)\n",
        "    return output,rec,mask\n",
        "  def margin_loss(self,output,true_output):\n",
        "    Lambda=0.5\n",
        "    m_plus=0.9\n",
        "    m_minus=0.1\n",
        "    squared_norm=(output**2).sum(2,keepdim=True)\n",
        "    norm=torch.sqrt(squared_norm)\n",
        "    term1=F.relu(m_plus-norm).view(batch_size,-1)\n",
        "    term2=F.relu(norm-m_minus).view(batch_size,-1)\n",
        "    loss=true_output*term1+Lambda*(1.0-true_output)*term2\n",
        "    loss=loss.sum(-1).mean()\n",
        "    return loss\n",
        "  def reconstruction_loss(self,input,rec):\n",
        "    mse=nn.MSELoss()\n",
        "    input=torch.reshape(input,(input.size()[0],-1))\n",
        "    rec=torch.reshape(rec,(rec.size()[0],-1))\n",
        "    loss=0.005*mse(input,rec)\n",
        "    return loss\n",
        "  def loss(self,input,output,true_output,rec):\n",
        "    loss_m_l=self.margin_loss(output,true_output)\n",
        "    loss_r_l=self.reconstruction_loss(input,rec)\n",
        "    total_loss=loss_m_l+loss_r_l\n",
        "    return total_loss"
      ],
      "execution_count": 8,
      "outputs": []
    },
    {
      "cell_type": "code",
      "metadata": {
        "id": "xC9nnafKczPO"
      },
      "source": [
        "def train(capsnet,optimizer,train_loader,epoch,save_path='capsnet'):\n",
        "    capsnet.train()\n",
        "    num_batches=len(list(enumerate(train_loader)))\n",
        "    total_loss=0\n",
        "    for batch_idx,(input,label) in enumerate(tqdm(train_loader)):\n",
        "        target=torch.sparse.torch.eye(10).index_select(dim=0,index=label)\n",
        "        input,target=Variable(input),Variable(target)\n",
        "        input,target=input.cuda(),target.cuda()\n",
        "        output,rec,masked=capsnet(input)\n",
        "        loss=capsnet.loss(input,output,target,rec)\n",
        "        train_loss=loss.item()\n",
        "        if math.isnan(train_loss):\n",
        "          capsnet=torch.load(save_path)\n",
        "        else:\n",
        "          loss.backward()\n",
        "          optimizer.step()\n",
        "          total_loss+=train_loss\n",
        "          #torch.save(capsnet,save_path)\n",
        "        correct=sum(np.argmax(masked.data.cpu().numpy(),1)==np.argmax(target.data.cpu().numpy(),1))\n",
        "        #if math.isnan(train_loss):\n",
        "          #print(\"loading previous best model\")\n",
        "          #capsnet=torch.load(save_path)\n",
        "        if batch_idx%100==0:\n",
        "            optimizer.zero_grad()\n",
        "            tqdm.write(\"Epoch: [{}/{}], Batch: [{}/{}], train accuracy: {:.6f}, loss: {:.6f}\".format(\n",
        "                epoch,num_epochs,batch_idx+1,num_batches,correct/float(batch_size),train_loss/float(batch_size)))\n",
        "            if not (math.isnan(train_loss)):\n",
        "              torch.save(capsnet,save_path)\n",
        "    tqdm.write('Epoch: [{}/{}], train loss: {:.6f}'.format(epoch,num_epochs,total_loss/len(train_loader.dataset)))\n",
        "    #if not (math.isnan(total_loss)):\n",
        "      #torch.save(capsnet,save_path)"
      ],
      "execution_count": 9,
      "outputs": []
    },
    {
      "cell_type": "code",
      "metadata": {
        "id": "gOHxqgZxfVZi"
      },
      "source": [
        "def test(capsnet,test_loader,epoch):\n",
        "    capsnet\n",
        "    capsnet.eval()\n",
        "    test_loss=0\n",
        "    correct=0\n",
        "    for batch_idx,(input,label) in enumerate(test_loader):\n",
        "        target=torch.sparse.torch.eye(10).index_select(dim=0,index=label)\n",
        "        input,target=Variable(input),Variable(target)\n",
        "        input,target=input.cuda(),target.cuda()\n",
        "        output,rec,masked=capsnet(input)\n",
        "        loss=capsnet.loss(input,output,target,rec)\n",
        "        test_loss+=loss.item()\n",
        "        correct+=sum(np.argmax(masked.data.cpu().numpy(),1)==np.argmax(target.data.cpu().numpy(),1))\n",
        "    tqdm.write(\"Epoch: [{}/{}], test accuracy: {:.6f}, loss: {:.6f}\".format(epoch,num_epochs,correct/len(test_loader.dataset),test_loss/len(test_loader)))"
      ],
      "execution_count": 10,
      "outputs": []
    },
    {
      "cell_type": "code",
      "metadata": {
        "id": "lx_B_Gtxc3HJ",
        "outputId": "57ca6aef-1bd1-4c93-b532-6d0ddc6feb1c",
        "colab": {
          "base_uri": "https://localhost:8080/"
        }
      },
      "source": [
        "data_transform = transforms.Compose([\n",
        "                    transforms.ToTensor(),\n",
        "                    transforms.Normalize((0.1307,),(0.3081,))\n",
        "                ])\n",
        "batch_size=128\n",
        "num_epochs=30\n",
        "capsnet=CapsNet()\n",
        "capsnet=torch.nn.DataParallel(capsnet)\n",
        "train_loader=torch.utils.data.DataLoader(datasets.MNIST(\"mnist\",train=True,download=True,transform=data_transform),batch_size=batch_size,shuffle=True,drop_last=True)\n",
        "test_loader=torch.utils.data.DataLoader(datasets.MNIST(\"mnist\",train=False,download=True,transform=data_transform),batch_size=batch_size,shuffle=True,drop_last=True)\n",
        "capsnet=capsnet.cuda()\n",
        "capsnet=capsnet.module\n",
        "optimizer=torch.optim.Adam(capsnet.parameters(),lr=1e-3)\n",
        "for e in range(1,num_epochs+1):\n",
        "  train(capsnet,optimizer,train_loader,e)\n",
        "  test(capsnet,test_loader,e)\n",
        "  torch.cuda.empty_cache()"
      ],
      "execution_count": 11,
      "outputs": [
        {
          "output_type": "stream",
          "text": [
            "  0%|          | 0/468 [00:00<?, ?it/s]"
          ],
          "name": "stderr"
        },
        {
          "output_type": "stream",
          "text": [
            "Epoch: [1/30], Batch: [1/468], train accuracy: 0.125000, loss: 0.007060\n"
          ],
          "name": "stdout"
        },
        {
          "output_type": "stream",
          "text": [
            " 21%|██▏       | 100/468 [00:55<03:03,  2.00it/s]"
          ],
          "name": "stderr"
        },
        {
          "output_type": "stream",
          "text": [
            "Epoch: [1/30], Batch: [101/468], train accuracy: 0.117188, loss: 0.006719\n"
          ],
          "name": "stdout"
        },
        {
          "output_type": "stream",
          "text": [
            " 43%|████▎     | 200/468 [01:49<02:15,  1.97it/s]"
          ],
          "name": "stderr"
        },
        {
          "output_type": "stream",
          "text": [
            "Epoch: [1/30], Batch: [201/468], train accuracy: 0.265625, loss: 0.006535\n"
          ],
          "name": "stdout"
        },
        {
          "output_type": "stream",
          "text": [
            " 64%|██████▍   | 300/468 [02:44<01:28,  1.90it/s]"
          ],
          "name": "stderr"
        },
        {
          "output_type": "stream",
          "text": [
            "Epoch: [1/30], Batch: [301/468], train accuracy: 0.320312, loss: 0.006262\n"
          ],
          "name": "stdout"
        },
        {
          "output_type": "stream",
          "text": [
            " 85%|████████▌ | 400/468 [03:40<00:34,  1.94it/s]"
          ],
          "name": "stderr"
        },
        {
          "output_type": "stream",
          "text": [
            "Epoch: [1/30], Batch: [401/468], train accuracy: 0.468750, loss: 0.005886\n"
          ],
          "name": "stdout"
        },
        {
          "output_type": "stream",
          "text": [
            "100%|██████████| 468/468 [04:19<00:00,  1.80it/s]\n"
          ],
          "name": "stderr"
        },
        {
          "output_type": "stream",
          "text": [
            "Epoch: [1/30], train loss: 0.006418\n",
            "Epoch: [1/30], test accuracy: 0.527300, loss: nan\n"
          ],
          "name": "stdout"
        },
        {
          "output_type": "stream",
          "text": [
            "  0%|          | 0/468 [00:00<?, ?it/s]"
          ],
          "name": "stderr"
        },
        {
          "output_type": "stream",
          "text": [
            "Epoch: [2/30], Batch: [1/468], train accuracy: 0.492188, loss: 0.005852\n"
          ],
          "name": "stdout"
        },
        {
          "output_type": "stream",
          "text": [
            " 21%|██▏       | 100/468 [00:56<03:14,  1.89it/s]"
          ],
          "name": "stderr"
        },
        {
          "output_type": "stream",
          "text": [
            "Epoch: [2/30], Batch: [101/468], train accuracy: 0.492188, loss: 0.005417\n"
          ],
          "name": "stdout"
        },
        {
          "output_type": "stream",
          "text": [
            " 43%|████▎     | 200/468 [01:52<02:18,  1.93it/s]"
          ],
          "name": "stderr"
        },
        {
          "output_type": "stream",
          "text": [
            "Epoch: [2/30], Batch: [201/468], train accuracy: 0.726562, loss: 0.004289\n"
          ],
          "name": "stdout"
        },
        {
          "output_type": "stream",
          "text": [
            " 64%|██████▍   | 300/468 [02:48<01:27,  1.92it/s]"
          ],
          "name": "stderr"
        },
        {
          "output_type": "stream",
          "text": [
            "Epoch: [2/30], Batch: [301/468], train accuracy: 0.757812, loss: 0.003555\n"
          ],
          "name": "stdout"
        },
        {
          "output_type": "stream",
          "text": [
            " 85%|████████▌ | 400/468 [03:44<00:35,  1.89it/s]"
          ],
          "name": "stderr"
        },
        {
          "output_type": "stream",
          "text": [
            "Epoch: [2/30], Batch: [401/468], train accuracy: 0.773438, loss: 0.003454\n"
          ],
          "name": "stdout"
        },
        {
          "output_type": "stream",
          "text": [
            "100%|██████████| 468/468 [04:24<00:00,  1.77it/s]\n"
          ],
          "name": "stderr"
        },
        {
          "output_type": "stream",
          "text": [
            "Epoch: [2/30], train loss: nan\n",
            "Epoch: [2/30], test accuracy: 0.811800, loss: 0.437063\n"
          ],
          "name": "stdout"
        },
        {
          "output_type": "stream",
          "text": [
            "  0%|          | 0/468 [00:00<?, ?it/s]"
          ],
          "name": "stderr"
        },
        {
          "output_type": "stream",
          "text": [
            "Epoch: [3/30], Batch: [1/468], train accuracy: 0.828125, loss: 0.003393\n"
          ],
          "name": "stdout"
        },
        {
          "output_type": "stream",
          "text": [
            " 21%|██▏       | 100/468 [00:56<03:10,  1.93it/s]"
          ],
          "name": "stderr"
        },
        {
          "output_type": "stream",
          "text": [
            "Epoch: [3/30], Batch: [101/468], train accuracy: 0.843750, loss: 0.003386\n"
          ],
          "name": "stdout"
        },
        {
          "output_type": "stream",
          "text": [
            " 43%|████▎     | 200/468 [01:52<02:19,  1.91it/s]"
          ],
          "name": "stderr"
        },
        {
          "output_type": "stream",
          "text": [
            "Epoch: [3/30], Batch: [201/468], train accuracy: 0.867188, loss: 0.002887\n"
          ],
          "name": "stdout"
        },
        {
          "output_type": "stream",
          "text": [
            " 64%|██████▍   | 300/468 [02:49<01:27,  1.91it/s]"
          ],
          "name": "stderr"
        },
        {
          "output_type": "stream",
          "text": [
            "Epoch: [3/30], Batch: [301/468], train accuracy: 0.820312, loss: 0.002962\n"
          ],
          "name": "stdout"
        },
        {
          "output_type": "stream",
          "text": [
            " 85%|████████▌ | 400/468 [03:44<00:35,  1.92it/s]"
          ],
          "name": "stderr"
        },
        {
          "output_type": "stream",
          "text": [
            "Epoch: [3/30], Batch: [401/468], train accuracy: 0.867188, loss: 0.002820\n"
          ],
          "name": "stdout"
        },
        {
          "output_type": "stream",
          "text": [
            "100%|██████████| 468/468 [04:23<00:00,  1.78it/s]\n"
          ],
          "name": "stderr"
        },
        {
          "output_type": "stream",
          "text": [
            "Epoch: [3/30], train loss: nan\n",
            "Epoch: [3/30], test accuracy: 0.792600, loss: 0.444561\n"
          ],
          "name": "stdout"
        },
        {
          "output_type": "stream",
          "text": [
            "  0%|          | 0/468 [00:00<?, ?it/s]"
          ],
          "name": "stderr"
        },
        {
          "output_type": "stream",
          "text": [
            "Epoch: [4/30], Batch: [1/468], train accuracy: 0.789062, loss: 0.003393\n"
          ],
          "name": "stdout"
        },
        {
          "output_type": "stream",
          "text": [
            " 21%|██▏       | 100/468 [00:57<03:11,  1.92it/s]"
          ],
          "name": "stderr"
        },
        {
          "output_type": "stream",
          "text": [
            "Epoch: [4/30], Batch: [101/468], train accuracy: 0.851562, loss: 0.002859\n"
          ],
          "name": "stdout"
        },
        {
          "output_type": "stream",
          "text": [
            " 43%|████▎     | 200/468 [01:52<02:20,  1.91it/s]"
          ],
          "name": "stderr"
        },
        {
          "output_type": "stream",
          "text": [
            "Epoch: [4/30], Batch: [201/468], train accuracy: 0.906250, loss: 0.002457\n"
          ],
          "name": "stdout"
        },
        {
          "output_type": "stream",
          "text": [
            " 64%|██████▍   | 300/468 [02:48<01:27,  1.93it/s]"
          ],
          "name": "stderr"
        },
        {
          "output_type": "stream",
          "text": [
            "Epoch: [4/30], Batch: [301/468], train accuracy: 0.882812, loss: 0.002232\n"
          ],
          "name": "stdout"
        },
        {
          "output_type": "stream",
          "text": [
            " 85%|████████▌ | 400/468 [03:46<00:36,  1.88it/s]"
          ],
          "name": "stderr"
        },
        {
          "output_type": "stream",
          "text": [
            "Epoch: [4/30], Batch: [401/468], train accuracy: 0.921875, loss: 0.001951\n"
          ],
          "name": "stdout"
        },
        {
          "output_type": "stream",
          "text": [
            "100%|██████████| 468/468 [04:24<00:00,  1.77it/s]\n"
          ],
          "name": "stderr"
        },
        {
          "output_type": "stream",
          "text": [
            "Epoch: [4/30], train loss: 0.002547\n",
            "Epoch: [4/30], test accuracy: 0.908500, loss: 0.225806\n"
          ],
          "name": "stdout"
        },
        {
          "output_type": "stream",
          "text": [
            "  0%|          | 0/468 [00:00<?, ?it/s]"
          ],
          "name": "stderr"
        },
        {
          "output_type": "stream",
          "text": [
            "Epoch: [5/30], Batch: [1/468], train accuracy: 0.937500, loss: 0.001537\n"
          ],
          "name": "stdout"
        },
        {
          "output_type": "stream",
          "text": [
            " 21%|██▏       | 100/468 [00:56<03:10,  1.93it/s]"
          ],
          "name": "stderr"
        },
        {
          "output_type": "stream",
          "text": [
            "Epoch: [5/30], Batch: [101/468], train accuracy: 0.945312, loss: 0.001602\n"
          ],
          "name": "stdout"
        },
        {
          "output_type": "stream",
          "text": [
            " 43%|████▎     | 200/468 [01:53<02:21,  1.89it/s]"
          ],
          "name": "stderr"
        },
        {
          "output_type": "stream",
          "text": [
            "Epoch: [5/30], Batch: [201/468], train accuracy: 0.898438, loss: 0.001475\n"
          ],
          "name": "stdout"
        },
        {
          "output_type": "stream",
          "text": [
            " 64%|██████▍   | 300/468 [02:49<01:27,  1.92it/s]"
          ],
          "name": "stderr"
        },
        {
          "output_type": "stream",
          "text": [
            "Epoch: [5/30], Batch: [301/468], train accuracy: 0.906250, loss: 0.001683\n"
          ],
          "name": "stdout"
        },
        {
          "output_type": "stream",
          "text": [
            " 85%|████████▌ | 400/468 [03:45<00:35,  1.93it/s]"
          ],
          "name": "stderr"
        },
        {
          "output_type": "stream",
          "text": [
            "Epoch: [5/30], Batch: [401/468], train accuracy: 0.945312, loss: 0.001428\n"
          ],
          "name": "stdout"
        },
        {
          "output_type": "stream",
          "text": [
            "100%|██████████| 468/468 [04:24<00:00,  1.77it/s]\n"
          ],
          "name": "stderr"
        },
        {
          "output_type": "stream",
          "text": [
            "Epoch: [5/30], train loss: 0.001533\n",
            "Epoch: [5/30], test accuracy: 0.935500, loss: 0.175530\n"
          ],
          "name": "stdout"
        },
        {
          "output_type": "stream",
          "text": [
            "  0%|          | 0/468 [00:00<?, ?it/s]"
          ],
          "name": "stderr"
        },
        {
          "output_type": "stream",
          "text": [
            "Epoch: [6/30], Batch: [1/468], train accuracy: 0.937500, loss: 0.001355\n"
          ],
          "name": "stdout"
        },
        {
          "output_type": "stream",
          "text": [
            " 21%|██▏       | 100/468 [00:56<03:11,  1.93it/s]"
          ],
          "name": "stderr"
        },
        {
          "output_type": "stream",
          "text": [
            "Epoch: [6/30], Batch: [101/468], train accuracy: 0.890625, loss: 0.001776\n"
          ],
          "name": "stdout"
        },
        {
          "output_type": "stream",
          "text": [
            " 43%|████▎     | 200/468 [01:52<02:18,  1.93it/s]"
          ],
          "name": "stderr"
        },
        {
          "output_type": "stream",
          "text": [
            "Epoch: [6/30], Batch: [201/468], train accuracy: 0.921875, loss: 0.001348\n"
          ],
          "name": "stdout"
        },
        {
          "output_type": "stream",
          "text": [
            " 64%|██████▍   | 300/468 [02:48<01:30,  1.86it/s]"
          ],
          "name": "stderr"
        },
        {
          "output_type": "stream",
          "text": [
            "Epoch: [6/30], Batch: [301/468], train accuracy: 0.914062, loss: 0.001430\n"
          ],
          "name": "stdout"
        },
        {
          "output_type": "stream",
          "text": [
            " 85%|████████▌ | 400/468 [03:45<00:35,  1.89it/s]"
          ],
          "name": "stderr"
        },
        {
          "output_type": "stream",
          "text": [
            "Epoch: [6/30], Batch: [401/468], train accuracy: 0.898438, loss: 0.001468\n"
          ],
          "name": "stdout"
        },
        {
          "output_type": "stream",
          "text": [
            "100%|██████████| 468/468 [04:24<00:00,  1.77it/s]\n"
          ],
          "name": "stderr"
        },
        {
          "output_type": "stream",
          "text": [
            "Epoch: [6/30], train loss: 0.001297\n",
            "Epoch: [6/30], test accuracy: 0.948600, loss: 0.126327\n"
          ],
          "name": "stdout"
        },
        {
          "output_type": "stream",
          "text": [
            "  0%|          | 0/468 [00:00<?, ?it/s]"
          ],
          "name": "stderr"
        },
        {
          "output_type": "stream",
          "text": [
            "Epoch: [7/30], Batch: [1/468], train accuracy: 0.945312, loss: 0.000989\n"
          ],
          "name": "stdout"
        },
        {
          "output_type": "stream",
          "text": [
            " 21%|██▏       | 100/468 [00:57<03:16,  1.88it/s]"
          ],
          "name": "stderr"
        },
        {
          "output_type": "stream",
          "text": [
            "Epoch: [7/30], Batch: [101/468], train accuracy: 0.992188, loss: 0.000772\n"
          ],
          "name": "stdout"
        },
        {
          "output_type": "stream",
          "text": [
            " 43%|████▎     | 200/468 [01:54<02:21,  1.89it/s]"
          ],
          "name": "stderr"
        },
        {
          "output_type": "stream",
          "text": [
            "Epoch: [7/30], Batch: [201/468], train accuracy: 0.914062, loss: 0.001443\n"
          ],
          "name": "stdout"
        },
        {
          "output_type": "stream",
          "text": [
            " 64%|██████▍   | 300/468 [02:51<01:28,  1.90it/s]"
          ],
          "name": "stderr"
        },
        {
          "output_type": "stream",
          "text": [
            "Epoch: [7/30], Batch: [301/468], train accuracy: 0.953125, loss: 0.001010\n"
          ],
          "name": "stdout"
        },
        {
          "output_type": "stream",
          "text": [
            " 85%|████████▌ | 400/468 [03:47<00:35,  1.91it/s]"
          ],
          "name": "stderr"
        },
        {
          "output_type": "stream",
          "text": [
            "Epoch: [7/30], Batch: [401/468], train accuracy: 0.953125, loss: 0.000849\n"
          ],
          "name": "stdout"
        },
        {
          "output_type": "stream",
          "text": [
            "100%|██████████| 468/468 [04:26<00:00,  1.76it/s]\n"
          ],
          "name": "stderr"
        },
        {
          "output_type": "stream",
          "text": [
            "Epoch: [7/30], train loss: 0.000975\n",
            "Epoch: [7/30], test accuracy: 0.956800, loss: 0.122947\n"
          ],
          "name": "stdout"
        },
        {
          "output_type": "stream",
          "text": [
            "  0%|          | 0/468 [00:00<?, ?it/s]"
          ],
          "name": "stderr"
        },
        {
          "output_type": "stream",
          "text": [
            "Epoch: [8/30], Batch: [1/468], train accuracy: 0.921875, loss: 0.001226\n"
          ],
          "name": "stdout"
        },
        {
          "output_type": "stream",
          "text": [
            " 21%|██▏       | 100/468 [00:57<03:18,  1.85it/s]"
          ],
          "name": "stderr"
        },
        {
          "output_type": "stream",
          "text": [
            "Epoch: [8/30], Batch: [101/468], train accuracy: 0.953125, loss: 0.000900\n"
          ],
          "name": "stdout"
        },
        {
          "output_type": "stream",
          "text": [
            " 43%|████▎     | 200/468 [01:53<02:18,  1.93it/s]"
          ],
          "name": "stderr"
        },
        {
          "output_type": "stream",
          "text": [
            "Epoch: [8/30], Batch: [201/468], train accuracy: 0.960938, loss: 0.000987\n"
          ],
          "name": "stdout"
        },
        {
          "output_type": "stream",
          "text": [
            " 64%|██████▍   | 300/468 [02:49<01:27,  1.92it/s]"
          ],
          "name": "stderr"
        },
        {
          "output_type": "stream",
          "text": [
            "Epoch: [8/30], Batch: [301/468], train accuracy: 0.953125, loss: 0.000951\n"
          ],
          "name": "stdout"
        },
        {
          "output_type": "stream",
          "text": [
            " 85%|████████▌ | 400/468 [03:45<00:36,  1.85it/s]"
          ],
          "name": "stderr"
        },
        {
          "output_type": "stream",
          "text": [
            "Epoch: [8/30], Batch: [401/468], train accuracy: 0.976562, loss: 0.000817\n"
          ],
          "name": "stdout"
        },
        {
          "output_type": "stream",
          "text": [
            "100%|██████████| 468/468 [04:25<00:00,  1.77it/s]\n"
          ],
          "name": "stderr"
        },
        {
          "output_type": "stream",
          "text": [
            "Epoch: [8/30], train loss: 0.000888\n",
            "Epoch: [8/30], test accuracy: 0.961000, loss: 0.098817\n"
          ],
          "name": "stdout"
        },
        {
          "output_type": "stream",
          "text": [
            "  0%|          | 0/468 [00:00<?, ?it/s]"
          ],
          "name": "stderr"
        },
        {
          "output_type": "stream",
          "text": [
            "Epoch: [9/30], Batch: [1/468], train accuracy: 0.992188, loss: 0.000583\n"
          ],
          "name": "stdout"
        },
        {
          "output_type": "stream",
          "text": [
            " 21%|██▏       | 100/468 [00:56<03:09,  1.94it/s]"
          ],
          "name": "stderr"
        },
        {
          "output_type": "stream",
          "text": [
            "Epoch: [9/30], Batch: [101/468], train accuracy: 0.937500, loss: 0.001119\n"
          ],
          "name": "stdout"
        },
        {
          "output_type": "stream",
          "text": [
            " 43%|████▎     | 200/468 [01:52<02:23,  1.86it/s]"
          ],
          "name": "stderr"
        },
        {
          "output_type": "stream",
          "text": [
            "Epoch: [9/30], Batch: [201/468], train accuracy: 0.953125, loss: 0.001028\n"
          ],
          "name": "stdout"
        },
        {
          "output_type": "stream",
          "text": [
            " 64%|██████▍   | 300/468 [02:48<01:26,  1.94it/s]"
          ],
          "name": "stderr"
        },
        {
          "output_type": "stream",
          "text": [
            "Epoch: [9/30], Batch: [301/468], train accuracy: 0.937500, loss: 0.001021\n"
          ],
          "name": "stdout"
        },
        {
          "output_type": "stream",
          "text": [
            " 85%|████████▌ | 400/468 [03:44<00:35,  1.93it/s]"
          ],
          "name": "stderr"
        },
        {
          "output_type": "stream",
          "text": [
            "Epoch: [9/30], Batch: [401/468], train accuracy: 0.960938, loss: 0.001053\n"
          ],
          "name": "stdout"
        },
        {
          "output_type": "stream",
          "text": [
            "100%|██████████| 468/468 [04:22<00:00,  1.78it/s]\n"
          ],
          "name": "stderr"
        },
        {
          "output_type": "stream",
          "text": [
            "Epoch: [9/30], train loss: 0.000794\n",
            "Epoch: [9/30], test accuracy: 0.968200, loss: 0.089165\n"
          ],
          "name": "stdout"
        },
        {
          "output_type": "stream",
          "text": [
            "  0%|          | 0/468 [00:00<?, ?it/s]"
          ],
          "name": "stderr"
        },
        {
          "output_type": "stream",
          "text": [
            "Epoch: [10/30], Batch: [1/468], train accuracy: 0.953125, loss: 0.000906\n"
          ],
          "name": "stdout"
        },
        {
          "output_type": "stream",
          "text": [
            " 21%|██▏       | 100/468 [00:56<03:11,  1.92it/s]"
          ],
          "name": "stderr"
        },
        {
          "output_type": "stream",
          "text": [
            "Epoch: [10/30], Batch: [101/468], train accuracy: 0.960938, loss: 0.000889\n"
          ],
          "name": "stdout"
        },
        {
          "output_type": "stream",
          "text": [
            " 43%|████▎     | 200/468 [01:52<02:19,  1.93it/s]"
          ],
          "name": "stderr"
        },
        {
          "output_type": "stream",
          "text": [
            "Epoch: [10/30], Batch: [201/468], train accuracy: 0.984375, loss: 0.000579\n"
          ],
          "name": "stdout"
        },
        {
          "output_type": "stream",
          "text": [
            " 64%|██████▍   | 300/468 [02:48<01:28,  1.89it/s]"
          ],
          "name": "stderr"
        },
        {
          "output_type": "stream",
          "text": [
            "Epoch: [10/30], Batch: [301/468], train accuracy: 0.968750, loss: 0.000654\n"
          ],
          "name": "stdout"
        },
        {
          "output_type": "stream",
          "text": [
            " 85%|████████▌ | 400/468 [03:45<00:35,  1.93it/s]"
          ],
          "name": "stderr"
        },
        {
          "output_type": "stream",
          "text": [
            "Epoch: [10/30], Batch: [401/468], train accuracy: 0.968750, loss: 0.000866\n"
          ],
          "name": "stdout"
        },
        {
          "output_type": "stream",
          "text": [
            "100%|██████████| 468/468 [04:23<00:00,  1.77it/s]\n"
          ],
          "name": "stderr"
        },
        {
          "output_type": "stream",
          "text": [
            "Epoch: [10/30], train loss: nan\n",
            "Epoch: [10/30], test accuracy: 0.957600, loss: 0.124632\n"
          ],
          "name": "stdout"
        },
        {
          "output_type": "stream",
          "text": [
            "  0%|          | 0/468 [00:00<?, ?it/s]"
          ],
          "name": "stderr"
        },
        {
          "output_type": "stream",
          "text": [
            "Epoch: [11/30], Batch: [1/468], train accuracy: 0.937500, loss: 0.001081\n"
          ],
          "name": "stdout"
        },
        {
          "output_type": "stream",
          "text": [
            " 21%|██▏       | 100/468 [00:56<03:12,  1.91it/s]"
          ],
          "name": "stderr"
        },
        {
          "output_type": "stream",
          "text": [
            "Epoch: [11/30], Batch: [101/468], train accuracy: 0.968750, loss: 0.000954\n"
          ],
          "name": "stdout"
        },
        {
          "output_type": "stream",
          "text": [
            " 43%|████▎     | 200/468 [01:52<02:18,  1.93it/s]"
          ],
          "name": "stderr"
        },
        {
          "output_type": "stream",
          "text": [
            "Epoch: [11/30], Batch: [201/468], train accuracy: 0.960938, loss: 0.001105\n"
          ],
          "name": "stdout"
        },
        {
          "output_type": "stream",
          "text": [
            " 64%|██████▍   | 300/468 [02:48<01:27,  1.92it/s]"
          ],
          "name": "stderr"
        },
        {
          "output_type": "stream",
          "text": [
            "Epoch: [11/30], Batch: [301/468], train accuracy: 0.968750, loss: 0.000868\n"
          ],
          "name": "stdout"
        },
        {
          "output_type": "stream",
          "text": [
            " 85%|████████▌ | 400/468 [03:44<00:35,  1.92it/s]"
          ],
          "name": "stderr"
        },
        {
          "output_type": "stream",
          "text": [
            "Epoch: [11/30], Batch: [401/468], train accuracy: 0.960938, loss: 0.000656\n"
          ],
          "name": "stdout"
        },
        {
          "output_type": "stream",
          "text": [
            "100%|██████████| 468/468 [04:24<00:00,  1.77it/s]\n"
          ],
          "name": "stderr"
        },
        {
          "output_type": "stream",
          "text": [
            "Epoch: [11/30], train loss: 0.000816\n",
            "Epoch: [11/30], test accuracy: 0.969600, loss: 0.084167\n"
          ],
          "name": "stdout"
        },
        {
          "output_type": "stream",
          "text": [
            "  0%|          | 0/468 [00:00<?, ?it/s]"
          ],
          "name": "stderr"
        },
        {
          "output_type": "stream",
          "text": [
            "Epoch: [12/30], Batch: [1/468], train accuracy: 0.992188, loss: 0.000503\n"
          ],
          "name": "stdout"
        },
        {
          "output_type": "stream",
          "text": [
            " 21%|██▏       | 100/468 [00:56<03:11,  1.92it/s]"
          ],
          "name": "stderr"
        },
        {
          "output_type": "stream",
          "text": [
            "Epoch: [12/30], Batch: [101/468], train accuracy: 0.984375, loss: 0.000572\n"
          ],
          "name": "stdout"
        },
        {
          "output_type": "stream",
          "text": [
            " 43%|████▎     | 200/468 [01:51<02:19,  1.93it/s]"
          ],
          "name": "stderr"
        },
        {
          "output_type": "stream",
          "text": [
            "Epoch: [12/30], Batch: [201/468], train accuracy: 0.921875, loss: 0.001224\n"
          ],
          "name": "stdout"
        },
        {
          "output_type": "stream",
          "text": [
            " 64%|██████▍   | 300/468 [02:49<01:28,  1.91it/s]"
          ],
          "name": "stderr"
        },
        {
          "output_type": "stream",
          "text": [
            "Epoch: [12/30], Batch: [301/468], train accuracy: 0.992188, loss: 0.000402\n"
          ],
          "name": "stdout"
        },
        {
          "output_type": "stream",
          "text": [
            " 85%|████████▌ | 400/468 [03:44<00:35,  1.92it/s]"
          ],
          "name": "stderr"
        },
        {
          "output_type": "stream",
          "text": [
            "Epoch: [12/30], Batch: [401/468], train accuracy: 0.976562, loss: 0.000617\n"
          ],
          "name": "stdout"
        },
        {
          "output_type": "stream",
          "text": [
            "100%|██████████| 468/468 [04:23<00:00,  1.78it/s]\n"
          ],
          "name": "stderr"
        },
        {
          "output_type": "stream",
          "text": [
            "Epoch: [12/30], train loss: nan\n",
            "Epoch: [12/30], test accuracy: 0.966300, loss: 0.106453\n"
          ],
          "name": "stdout"
        },
        {
          "output_type": "stream",
          "text": [
            "  0%|          | 0/468 [00:00<?, ?it/s]"
          ],
          "name": "stderr"
        },
        {
          "output_type": "stream",
          "text": [
            "Epoch: [13/30], Batch: [1/468], train accuracy: 0.945312, loss: 0.000968\n"
          ],
          "name": "stdout"
        },
        {
          "output_type": "stream",
          "text": [
            " 21%|██▏       | 100/468 [00:57<03:17,  1.87it/s]"
          ],
          "name": "stderr"
        },
        {
          "output_type": "stream",
          "text": [
            "Epoch: [13/30], Batch: [101/468], train accuracy: 0.984375, loss: 0.000748\n"
          ],
          "name": "stdout"
        },
        {
          "output_type": "stream",
          "text": [
            " 43%|████▎     | 200/468 [01:54<02:21,  1.89it/s]"
          ],
          "name": "stderr"
        },
        {
          "output_type": "stream",
          "text": [
            "Epoch: [13/30], Batch: [201/468], train accuracy: 0.906250, loss: 0.001370\n"
          ],
          "name": "stdout"
        },
        {
          "output_type": "stream",
          "text": [
            " 64%|██████▍   | 300/468 [02:50<01:28,  1.90it/s]"
          ],
          "name": "stderr"
        },
        {
          "output_type": "stream",
          "text": [
            "Epoch: [13/30], Batch: [301/468], train accuracy: 0.968750, loss: 0.000699\n"
          ],
          "name": "stdout"
        },
        {
          "output_type": "stream",
          "text": [
            " 85%|████████▌ | 400/468 [03:47<00:36,  1.89it/s]"
          ],
          "name": "stderr"
        },
        {
          "output_type": "stream",
          "text": [
            "Epoch: [13/30], Batch: [401/468], train accuracy: 0.976562, loss: 0.000751\n"
          ],
          "name": "stdout"
        },
        {
          "output_type": "stream",
          "text": [
            "100%|██████████| 468/468 [04:26<00:00,  1.75it/s]\n"
          ],
          "name": "stderr"
        },
        {
          "output_type": "stream",
          "text": [
            "Epoch: [13/30], train loss: nan\n",
            "Epoch: [13/30], test accuracy: 0.966300, loss: 0.121188\n"
          ],
          "name": "stdout"
        },
        {
          "output_type": "stream",
          "text": [
            "  0%|          | 0/468 [00:00<?, ?it/s]"
          ],
          "name": "stderr"
        },
        {
          "output_type": "stream",
          "text": [
            "Epoch: [14/30], Batch: [1/468], train accuracy: 0.968750, loss: 0.000788\n"
          ],
          "name": "stdout"
        },
        {
          "output_type": "stream",
          "text": [
            " 21%|██▏       | 100/468 [00:57<03:14,  1.89it/s]"
          ],
          "name": "stderr"
        },
        {
          "output_type": "stream",
          "text": [
            "Epoch: [14/30], Batch: [101/468], train accuracy: 0.953125, loss: 0.001123\n"
          ],
          "name": "stdout"
        },
        {
          "output_type": "stream",
          "text": [
            " 43%|████▎     | 200/468 [01:54<02:21,  1.89it/s]"
          ],
          "name": "stderr"
        },
        {
          "output_type": "stream",
          "text": [
            "Epoch: [14/30], Batch: [201/468], train accuracy: 0.937500, loss: 0.000991\n"
          ],
          "name": "stdout"
        },
        {
          "output_type": "stream",
          "text": [
            " 64%|██████▍   | 300/468 [02:51<01:28,  1.90it/s]"
          ],
          "name": "stderr"
        },
        {
          "output_type": "stream",
          "text": [
            "Epoch: [14/30], Batch: [301/468], train accuracy: 0.937500, loss: 0.001042\n"
          ],
          "name": "stdout"
        },
        {
          "output_type": "stream",
          "text": [
            " 85%|████████▌ | 400/468 [03:47<00:35,  1.90it/s]"
          ],
          "name": "stderr"
        },
        {
          "output_type": "stream",
          "text": [
            "Epoch: [14/30], Batch: [401/468], train accuracy: 0.968750, loss: 0.000624\n"
          ],
          "name": "stdout"
        },
        {
          "output_type": "stream",
          "text": [
            "100%|██████████| 468/468 [04:27<00:00,  1.75it/s]\n"
          ],
          "name": "stderr"
        },
        {
          "output_type": "stream",
          "text": [
            "Epoch: [14/30], train loss: 0.000806\n",
            "Epoch: [14/30], test accuracy: 0.974900, loss: 0.066330\n"
          ],
          "name": "stdout"
        },
        {
          "output_type": "stream",
          "text": [
            "  0%|          | 0/468 [00:00<?, ?it/s]"
          ],
          "name": "stderr"
        },
        {
          "output_type": "stream",
          "text": [
            "Epoch: [15/30], Batch: [1/468], train accuracy: 0.976562, loss: 0.000518\n"
          ],
          "name": "stdout"
        },
        {
          "output_type": "stream",
          "text": [
            " 21%|██▏       | 100/468 [00:57<03:15,  1.88it/s]"
          ],
          "name": "stderr"
        },
        {
          "output_type": "stream",
          "text": [
            "Epoch: [15/30], Batch: [101/468], train accuracy: 0.960938, loss: 0.000492\n"
          ],
          "name": "stdout"
        },
        {
          "output_type": "stream",
          "text": [
            " 43%|████▎     | 200/468 [01:54<02:22,  1.89it/s]"
          ],
          "name": "stderr"
        },
        {
          "output_type": "stream",
          "text": [
            "Epoch: [15/30], Batch: [201/468], train accuracy: 0.976562, loss: 0.000622\n"
          ],
          "name": "stdout"
        },
        {
          "output_type": "stream",
          "text": [
            " 64%|██████▍   | 300/468 [02:51<01:28,  1.90it/s]"
          ],
          "name": "stderr"
        },
        {
          "output_type": "stream",
          "text": [
            "Epoch: [15/30], Batch: [301/468], train accuracy: 0.984375, loss: 0.000428\n"
          ],
          "name": "stdout"
        },
        {
          "output_type": "stream",
          "text": [
            " 85%|████████▌ | 400/468 [03:47<00:35,  1.89it/s]"
          ],
          "name": "stderr"
        },
        {
          "output_type": "stream",
          "text": [
            "Epoch: [15/30], Batch: [401/468], train accuracy: 0.984375, loss: 0.000589\n"
          ],
          "name": "stdout"
        },
        {
          "output_type": "stream",
          "text": [
            "100%|██████████| 468/468 [04:27<00:00,  1.75it/s]\n"
          ],
          "name": "stderr"
        },
        {
          "output_type": "stream",
          "text": [
            "Epoch: [15/30], train loss: 0.000575\n",
            "Epoch: [15/30], test accuracy: 0.974900, loss: 0.069751\n"
          ],
          "name": "stdout"
        },
        {
          "output_type": "stream",
          "text": [
            "  0%|          | 0/468 [00:00<?, ?it/s]"
          ],
          "name": "stderr"
        },
        {
          "output_type": "stream",
          "text": [
            "Epoch: [16/30], Batch: [1/468], train accuracy: 1.000000, loss: 0.000242\n"
          ],
          "name": "stdout"
        },
        {
          "output_type": "stream",
          "text": [
            " 21%|██▏       | 100/468 [00:57<03:14,  1.89it/s]"
          ],
          "name": "stderr"
        },
        {
          "output_type": "stream",
          "text": [
            "Epoch: [16/30], Batch: [101/468], train accuracy: 0.976562, loss: 0.000579\n"
          ],
          "name": "stdout"
        },
        {
          "output_type": "stream",
          "text": [
            " 43%|████▎     | 200/468 [01:54<02:20,  1.91it/s]"
          ],
          "name": "stderr"
        },
        {
          "output_type": "stream",
          "text": [
            "Epoch: [16/30], Batch: [201/468], train accuracy: 0.968750, loss: 0.000578\n"
          ],
          "name": "stdout"
        },
        {
          "output_type": "stream",
          "text": [
            " 64%|██████▍   | 300/468 [02:50<01:27,  1.93it/s]"
          ],
          "name": "stderr"
        },
        {
          "output_type": "stream",
          "text": [
            "Epoch: [16/30], Batch: [301/468], train accuracy: 0.984375, loss: 0.000501\n"
          ],
          "name": "stdout"
        },
        {
          "output_type": "stream",
          "text": [
            " 85%|████████▌ | 400/468 [03:45<00:35,  1.93it/s]"
          ],
          "name": "stderr"
        },
        {
          "output_type": "stream",
          "text": [
            "Epoch: [16/30], Batch: [401/468], train accuracy: 0.976562, loss: 0.000527\n"
          ],
          "name": "stdout"
        },
        {
          "output_type": "stream",
          "text": [
            "100%|██████████| 468/468 [04:25<00:00,  1.77it/s]\n"
          ],
          "name": "stderr"
        },
        {
          "output_type": "stream",
          "text": [
            "Epoch: [16/30], train loss: nan\n",
            "Epoch: [16/30], test accuracy: 0.976600, loss: 0.065796\n"
          ],
          "name": "stdout"
        },
        {
          "output_type": "stream",
          "text": [
            "  0%|          | 0/468 [00:00<?, ?it/s]"
          ],
          "name": "stderr"
        },
        {
          "output_type": "stream",
          "text": [
            "Epoch: [17/30], Batch: [1/468], train accuracy: 0.976562, loss: 0.000525\n"
          ],
          "name": "stdout"
        },
        {
          "output_type": "stream",
          "text": [
            " 21%|██▏       | 100/468 [00:56<03:12,  1.91it/s]"
          ],
          "name": "stderr"
        },
        {
          "output_type": "stream",
          "text": [
            "Epoch: [17/30], Batch: [101/468], train accuracy: 0.984375, loss: 0.000516\n"
          ],
          "name": "stdout"
        },
        {
          "output_type": "stream",
          "text": [
            " 43%|████▎     | 200/468 [01:52<02:18,  1.93it/s]"
          ],
          "name": "stderr"
        },
        {
          "output_type": "stream",
          "text": [
            "Epoch: [17/30], Batch: [201/468], train accuracy: 0.984375, loss: 0.000475\n"
          ],
          "name": "stdout"
        },
        {
          "output_type": "stream",
          "text": [
            " 64%|██████▍   | 300/468 [02:48<01:26,  1.93it/s]"
          ],
          "name": "stderr"
        },
        {
          "output_type": "stream",
          "text": [
            "Epoch: [17/30], Batch: [301/468], train accuracy: 0.976562, loss: 0.000473\n"
          ],
          "name": "stdout"
        },
        {
          "output_type": "stream",
          "text": [
            " 85%|████████▌ | 400/468 [03:44<00:35,  1.89it/s]"
          ],
          "name": "stderr"
        },
        {
          "output_type": "stream",
          "text": [
            "Epoch: [17/30], Batch: [401/468], train accuracy: 0.984375, loss: 0.000652\n"
          ],
          "name": "stdout"
        },
        {
          "output_type": "stream",
          "text": [
            "100%|██████████| 468/468 [04:23<00:00,  1.77it/s]\n"
          ],
          "name": "stderr"
        },
        {
          "output_type": "stream",
          "text": [
            "Epoch: [17/30], train loss: 0.000551\n",
            "Epoch: [17/30], test accuracy: 0.973000, loss: 0.074616\n"
          ],
          "name": "stdout"
        },
        {
          "output_type": "stream",
          "text": [
            "  0%|          | 0/468 [00:00<?, ?it/s]"
          ],
          "name": "stderr"
        },
        {
          "output_type": "stream",
          "text": [
            "Epoch: [18/30], Batch: [1/468], train accuracy: 0.984375, loss: 0.000520\n"
          ],
          "name": "stdout"
        },
        {
          "output_type": "stream",
          "text": [
            " 21%|██▏       | 100/468 [00:56<03:12,  1.92it/s]"
          ],
          "name": "stderr"
        },
        {
          "output_type": "stream",
          "text": [
            "Epoch: [18/30], Batch: [101/468], train accuracy: 0.953125, loss: 0.000928\n"
          ],
          "name": "stdout"
        },
        {
          "output_type": "stream",
          "text": [
            " 43%|████▎     | 200/468 [01:52<02:19,  1.93it/s]"
          ],
          "name": "stderr"
        },
        {
          "output_type": "stream",
          "text": [
            "Epoch: [18/30], Batch: [201/468], train accuracy: 0.945312, loss: 0.000896\n"
          ],
          "name": "stdout"
        },
        {
          "output_type": "stream",
          "text": [
            " 64%|██████▍   | 300/468 [02:47<01:27,  1.92it/s]"
          ],
          "name": "stderr"
        },
        {
          "output_type": "stream",
          "text": [
            "Epoch: [18/30], Batch: [301/468], train accuracy: 0.976562, loss: 0.000682\n"
          ],
          "name": "stdout"
        },
        {
          "output_type": "stream",
          "text": [
            " 85%|████████▌ | 400/468 [03:44<00:36,  1.87it/s]"
          ],
          "name": "stderr"
        },
        {
          "output_type": "stream",
          "text": [
            "Epoch: [18/30], Batch: [401/468], train accuracy: 0.992188, loss: 0.000639\n"
          ],
          "name": "stdout"
        },
        {
          "output_type": "stream",
          "text": [
            "100%|██████████| 468/468 [04:23<00:00,  1.77it/s]\n"
          ],
          "name": "stderr"
        },
        {
          "output_type": "stream",
          "text": [
            "Epoch: [18/30], train loss: nan\n",
            "Epoch: [18/30], test accuracy: 0.968300, loss: 0.105283\n"
          ],
          "name": "stdout"
        },
        {
          "output_type": "stream",
          "text": [
            "  0%|          | 0/468 [00:00<?, ?it/s]"
          ],
          "name": "stderr"
        },
        {
          "output_type": "stream",
          "text": [
            "Epoch: [19/30], Batch: [1/468], train accuracy: 0.984375, loss: 0.000697\n"
          ],
          "name": "stdout"
        },
        {
          "output_type": "stream",
          "text": [
            " 21%|██▏       | 100/468 [00:56<03:10,  1.93it/s]"
          ],
          "name": "stderr"
        },
        {
          "output_type": "stream",
          "text": [
            "Epoch: [19/30], Batch: [101/468], train accuracy: 0.976562, loss: 0.000499\n"
          ],
          "name": "stdout"
        },
        {
          "output_type": "stream",
          "text": [
            " 43%|████▎     | 200/468 [01:52<02:18,  1.93it/s]"
          ],
          "name": "stderr"
        },
        {
          "output_type": "stream",
          "text": [
            "Epoch: [19/30], Batch: [201/468], train accuracy: 0.968750, loss: 0.000593\n"
          ],
          "name": "stdout"
        },
        {
          "output_type": "stream",
          "text": [
            " 64%|██████▍   | 300/468 [02:47<01:27,  1.92it/s]"
          ],
          "name": "stderr"
        },
        {
          "output_type": "stream",
          "text": [
            "Epoch: [19/30], Batch: [301/468], train accuracy: 0.968750, loss: 0.000570\n"
          ],
          "name": "stdout"
        },
        {
          "output_type": "stream",
          "text": [
            " 85%|████████▌ | 400/468 [03:45<00:35,  1.90it/s]"
          ],
          "name": "stderr"
        },
        {
          "output_type": "stream",
          "text": [
            "Epoch: [19/30], Batch: [401/468], train accuracy: 0.953125, loss: 0.000792\n"
          ],
          "name": "stdout"
        },
        {
          "output_type": "stream",
          "text": [
            "100%|██████████| 468/468 [04:23<00:00,  1.77it/s]\n"
          ],
          "name": "stderr"
        },
        {
          "output_type": "stream",
          "text": [
            "Epoch: [19/30], train loss: 0.000586\n",
            "Epoch: [19/30], test accuracy: 0.976600, loss: 0.060945\n"
          ],
          "name": "stdout"
        },
        {
          "output_type": "stream",
          "text": [
            "  0%|          | 0/468 [00:00<?, ?it/s]"
          ],
          "name": "stderr"
        },
        {
          "output_type": "stream",
          "text": [
            "Epoch: [20/30], Batch: [1/468], train accuracy: 1.000000, loss: 0.000336\n"
          ],
          "name": "stdout"
        },
        {
          "output_type": "stream",
          "text": [
            " 21%|██▏       | 100/468 [00:56<03:10,  1.93it/s]"
          ],
          "name": "stderr"
        },
        {
          "output_type": "stream",
          "text": [
            "Epoch: [20/30], Batch: [101/468], train accuracy: 0.976562, loss: 0.000558\n"
          ],
          "name": "stdout"
        },
        {
          "output_type": "stream",
          "text": [
            " 43%|████▎     | 200/468 [01:51<02:18,  1.93it/s]"
          ],
          "name": "stderr"
        },
        {
          "output_type": "stream",
          "text": [
            "Epoch: [20/30], Batch: [201/468], train accuracy: 0.953125, loss: 0.000811\n"
          ],
          "name": "stdout"
        },
        {
          "output_type": "stream",
          "text": [
            " 64%|██████▍   | 300/468 [02:48<01:29,  1.87it/s]"
          ],
          "name": "stderr"
        },
        {
          "output_type": "stream",
          "text": [
            "Epoch: [20/30], Batch: [301/468], train accuracy: 0.984375, loss: 0.000664\n"
          ],
          "name": "stdout"
        },
        {
          "output_type": "stream",
          "text": [
            " 85%|████████▌ | 400/468 [03:44<00:35,  1.91it/s]"
          ],
          "name": "stderr"
        },
        {
          "output_type": "stream",
          "text": [
            "Epoch: [20/30], Batch: [401/468], train accuracy: 0.976562, loss: 0.000531\n"
          ],
          "name": "stdout"
        },
        {
          "output_type": "stream",
          "text": [
            "100%|██████████| 468/468 [04:23<00:00,  1.77it/s]\n"
          ],
          "name": "stderr"
        },
        {
          "output_type": "stream",
          "text": [
            "Epoch: [20/30], train loss: 0.000557\n",
            "Epoch: [20/30], test accuracy: 0.976900, loss: 0.060046\n"
          ],
          "name": "stdout"
        },
        {
          "output_type": "stream",
          "text": [
            "  0%|          | 0/468 [00:00<?, ?it/s]"
          ],
          "name": "stderr"
        },
        {
          "output_type": "stream",
          "text": [
            "Epoch: [21/30], Batch: [1/468], train accuracy: 0.984375, loss: 0.000351\n"
          ],
          "name": "stdout"
        },
        {
          "output_type": "stream",
          "text": [
            " 21%|██▏       | 100/468 [00:56<03:10,  1.94it/s]"
          ],
          "name": "stderr"
        },
        {
          "output_type": "stream",
          "text": [
            "Epoch: [21/30], Batch: [101/468], train accuracy: 0.976562, loss: 0.000470\n"
          ],
          "name": "stdout"
        },
        {
          "output_type": "stream",
          "text": [
            " 43%|████▎     | 200/468 [01:51<02:18,  1.94it/s]"
          ],
          "name": "stderr"
        },
        {
          "output_type": "stream",
          "text": [
            "Epoch: [21/30], Batch: [201/468], train accuracy: 0.984375, loss: 0.000471\n"
          ],
          "name": "stdout"
        },
        {
          "output_type": "stream",
          "text": [
            " 64%|██████▍   | 300/468 [02:49<01:29,  1.88it/s]"
          ],
          "name": "stderr"
        },
        {
          "output_type": "stream",
          "text": [
            "Epoch: [21/30], Batch: [301/468], train accuracy: 0.976562, loss: 0.000531\n"
          ],
          "name": "stdout"
        },
        {
          "output_type": "stream",
          "text": [
            " 85%|████████▌ | 400/468 [03:45<00:35,  1.91it/s]"
          ],
          "name": "stderr"
        },
        {
          "output_type": "stream",
          "text": [
            "Epoch: [21/30], Batch: [401/468], train accuracy: 0.992188, loss: 0.000539\n"
          ],
          "name": "stdout"
        },
        {
          "output_type": "stream",
          "text": [
            "100%|██████████| 468/468 [04:24<00:00,  1.77it/s]\n"
          ],
          "name": "stderr"
        },
        {
          "output_type": "stream",
          "text": [
            "Epoch: [21/30], train loss: 0.000470\n",
            "Epoch: [21/30], test accuracy: 0.981200, loss: 0.051693\n"
          ],
          "name": "stdout"
        },
        {
          "output_type": "stream",
          "text": [
            "  0%|          | 0/468 [00:00<?, ?it/s]"
          ],
          "name": "stderr"
        },
        {
          "output_type": "stream",
          "text": [
            "Epoch: [22/30], Batch: [1/468], train accuracy: 0.992188, loss: 0.000270\n"
          ],
          "name": "stdout"
        },
        {
          "output_type": "stream",
          "text": [
            " 21%|██▏       | 100/468 [00:56<03:09,  1.94it/s]"
          ],
          "name": "stderr"
        },
        {
          "output_type": "stream",
          "text": [
            "Epoch: [22/30], Batch: [101/468], train accuracy: 0.992188, loss: 0.000396\n"
          ],
          "name": "stdout"
        },
        {
          "output_type": "stream",
          "text": [
            " 43%|████▎     | 200/468 [01:51<02:20,  1.90it/s]"
          ],
          "name": "stderr"
        },
        {
          "output_type": "stream",
          "text": [
            "Epoch: [22/30], Batch: [201/468], train accuracy: 0.968750, loss: 0.000690\n"
          ],
          "name": "stdout"
        },
        {
          "output_type": "stream",
          "text": [
            " 64%|██████▍   | 300/468 [02:49<01:28,  1.90it/s]"
          ],
          "name": "stderr"
        },
        {
          "output_type": "stream",
          "text": [
            "Epoch: [22/30], Batch: [301/468], train accuracy: 1.000000, loss: 0.000328\n"
          ],
          "name": "stdout"
        },
        {
          "output_type": "stream",
          "text": [
            " 85%|████████▌ | 400/468 [03:45<00:35,  1.91it/s]"
          ],
          "name": "stderr"
        },
        {
          "output_type": "stream",
          "text": [
            "Epoch: [22/30], Batch: [401/468], train accuracy: 0.984375, loss: 0.000419\n"
          ],
          "name": "stdout"
        },
        {
          "output_type": "stream",
          "text": [
            "100%|██████████| 468/468 [04:23<00:00,  1.77it/s]\n"
          ],
          "name": "stderr"
        },
        {
          "output_type": "stream",
          "text": [
            "Epoch: [22/30], train loss: 0.000454\n",
            "Epoch: [22/30], test accuracy: 0.980900, loss: 0.052623\n"
          ],
          "name": "stdout"
        },
        {
          "output_type": "stream",
          "text": [
            "  0%|          | 0/468 [00:00<?, ?it/s]"
          ],
          "name": "stderr"
        },
        {
          "output_type": "stream",
          "text": [
            "Epoch: [23/30], Batch: [1/468], train accuracy: 0.984375, loss: 0.000374\n"
          ],
          "name": "stdout"
        },
        {
          "output_type": "stream",
          "text": [
            " 21%|██▏       | 100/468 [00:55<03:09,  1.94it/s]"
          ],
          "name": "stderr"
        },
        {
          "output_type": "stream",
          "text": [
            "Epoch: [23/30], Batch: [101/468], train accuracy: 0.953125, loss: 0.000622\n"
          ],
          "name": "stdout"
        },
        {
          "output_type": "stream",
          "text": [
            " 43%|████▎     | 200/468 [01:52<02:23,  1.86it/s]"
          ],
          "name": "stderr"
        },
        {
          "output_type": "stream",
          "text": [
            "Epoch: [23/30], Batch: [201/468], train accuracy: 0.984375, loss: 0.000465\n"
          ],
          "name": "stdout"
        },
        {
          "output_type": "stream",
          "text": [
            " 64%|██████▍   | 300/468 [02:48<01:27,  1.92it/s]"
          ],
          "name": "stderr"
        },
        {
          "output_type": "stream",
          "text": [
            "Epoch: [23/30], Batch: [301/468], train accuracy: 0.976562, loss: 0.000445\n"
          ],
          "name": "stdout"
        },
        {
          "output_type": "stream",
          "text": [
            " 85%|████████▌ | 400/468 [03:44<00:35,  1.92it/s]"
          ],
          "name": "stderr"
        },
        {
          "output_type": "stream",
          "text": [
            "Epoch: [23/30], Batch: [401/468], train accuracy: 0.976562, loss: 0.000465\n"
          ],
          "name": "stdout"
        },
        {
          "output_type": "stream",
          "text": [
            "100%|██████████| 468/468 [04:23<00:00,  1.78it/s]\n"
          ],
          "name": "stderr"
        },
        {
          "output_type": "stream",
          "text": [
            "Epoch: [23/30], train loss: nan\n",
            "Epoch: [23/30], test accuracy: 0.973500, loss: 0.111077\n"
          ],
          "name": "stdout"
        },
        {
          "output_type": "stream",
          "text": [
            "  0%|          | 0/468 [00:00<?, ?it/s]"
          ],
          "name": "stderr"
        },
        {
          "output_type": "stream",
          "text": [
            "Epoch: [24/30], Batch: [1/468], train accuracy: 0.945312, loss: 0.001078\n"
          ],
          "name": "stdout"
        },
        {
          "output_type": "stream",
          "text": [
            " 21%|██▏       | 100/468 [00:56<03:10,  1.93it/s]"
          ],
          "name": "stderr"
        },
        {
          "output_type": "stream",
          "text": [
            "Epoch: [24/30], Batch: [101/468], train accuracy: 0.976562, loss: 0.000675\n"
          ],
          "name": "stdout"
        },
        {
          "output_type": "stream",
          "text": [
            " 43%|████▎     | 200/468 [01:53<02:21,  1.89it/s]"
          ],
          "name": "stderr"
        },
        {
          "output_type": "stream",
          "text": [
            "Epoch: [24/30], Batch: [201/468], train accuracy: 0.960938, loss: 0.000656\n"
          ],
          "name": "stdout"
        },
        {
          "output_type": "stream",
          "text": [
            " 64%|██████▍   | 300/468 [02:49<01:28,  1.89it/s]"
          ],
          "name": "stderr"
        },
        {
          "output_type": "stream",
          "text": [
            "Epoch: [24/30], Batch: [301/468], train accuracy: 0.976562, loss: 0.000574\n"
          ],
          "name": "stdout"
        },
        {
          "output_type": "stream",
          "text": [
            " 85%|████████▌ | 400/468 [03:46<00:35,  1.90it/s]"
          ],
          "name": "stderr"
        },
        {
          "output_type": "stream",
          "text": [
            "Epoch: [24/30], Batch: [401/468], train accuracy: 0.984375, loss: 0.000492\n"
          ],
          "name": "stdout"
        },
        {
          "output_type": "stream",
          "text": [
            "100%|██████████| 468/468 [04:25<00:00,  1.76it/s]\n"
          ],
          "name": "stderr"
        },
        {
          "output_type": "stream",
          "text": [
            "Epoch: [24/30], train loss: 0.000582\n",
            "Epoch: [24/30], test accuracy: 0.981200, loss: 0.050320\n"
          ],
          "name": "stdout"
        },
        {
          "output_type": "stream",
          "text": [
            "  0%|          | 0/468 [00:00<?, ?it/s]"
          ],
          "name": "stderr"
        },
        {
          "output_type": "stream",
          "text": [
            "Epoch: [25/30], Batch: [1/468], train accuracy: 0.992188, loss: 0.000422\n"
          ],
          "name": "stdout"
        },
        {
          "output_type": "stream",
          "text": [
            " 21%|██▏       | 100/468 [00:57<03:11,  1.92it/s]"
          ],
          "name": "stderr"
        },
        {
          "output_type": "stream",
          "text": [
            "Epoch: [25/30], Batch: [101/468], train accuracy: 0.992188, loss: 0.000456\n"
          ],
          "name": "stdout"
        },
        {
          "output_type": "stream",
          "text": [
            " 43%|████▎     | 200/468 [01:52<02:19,  1.93it/s]"
          ],
          "name": "stderr"
        },
        {
          "output_type": "stream",
          "text": [
            "Epoch: [25/30], Batch: [201/468], train accuracy: 0.960938, loss: 0.000619\n"
          ],
          "name": "stdout"
        },
        {
          "output_type": "stream",
          "text": [
            " 64%|██████▍   | 300/468 [02:48<01:27,  1.91it/s]"
          ],
          "name": "stderr"
        },
        {
          "output_type": "stream",
          "text": [
            "Epoch: [25/30], Batch: [301/468], train accuracy: 0.976562, loss: 0.000429\n"
          ],
          "name": "stdout"
        },
        {
          "output_type": "stream",
          "text": [
            " 85%|████████▌ | 400/468 [03:45<00:35,  1.92it/s]"
          ],
          "name": "stderr"
        },
        {
          "output_type": "stream",
          "text": [
            "Epoch: [25/30], Batch: [401/468], train accuracy: 1.000000, loss: 0.000345\n"
          ],
          "name": "stdout"
        },
        {
          "output_type": "stream",
          "text": [
            "100%|██████████| 468/468 [04:23<00:00,  1.77it/s]\n"
          ],
          "name": "stderr"
        },
        {
          "output_type": "stream",
          "text": [
            "Epoch: [25/30], train loss: nan\n",
            "Epoch: [25/30], test accuracy: 0.981900, loss: 0.053330\n"
          ],
          "name": "stdout"
        },
        {
          "output_type": "stream",
          "text": [
            "  0%|          | 0/468 [00:00<?, ?it/s]"
          ],
          "name": "stderr"
        },
        {
          "output_type": "stream",
          "text": [
            "Epoch: [26/30], Batch: [1/468], train accuracy: 0.968750, loss: 0.000611\n"
          ],
          "name": "stdout"
        },
        {
          "output_type": "stream",
          "text": [
            " 21%|██▏       | 100/468 [00:56<03:09,  1.94it/s]"
          ],
          "name": "stderr"
        },
        {
          "output_type": "stream",
          "text": [
            "Epoch: [26/30], Batch: [101/468], train accuracy: 0.968750, loss: 0.000625\n"
          ],
          "name": "stdout"
        },
        {
          "output_type": "stream",
          "text": [
            " 43%|████▎     | 200/468 [01:51<02:17,  1.94it/s]"
          ],
          "name": "stderr"
        },
        {
          "output_type": "stream",
          "text": [
            "Epoch: [26/30], Batch: [201/468], train accuracy: 0.976562, loss: 0.000474\n"
          ],
          "name": "stdout"
        },
        {
          "output_type": "stream",
          "text": [
            " 64%|██████▍   | 300/468 [02:47<01:29,  1.87it/s]"
          ],
          "name": "stderr"
        },
        {
          "output_type": "stream",
          "text": [
            "Epoch: [26/30], Batch: [301/468], train accuracy: 0.984375, loss: 0.000389\n"
          ],
          "name": "stdout"
        },
        {
          "output_type": "stream",
          "text": [
            " 85%|████████▌ | 400/468 [03:44<00:35,  1.91it/s]"
          ],
          "name": "stderr"
        },
        {
          "output_type": "stream",
          "text": [
            "Epoch: [26/30], Batch: [401/468], train accuracy: 0.992188, loss: 0.000452\n"
          ],
          "name": "stdout"
        },
        {
          "output_type": "stream",
          "text": [
            "100%|██████████| 468/468 [04:23<00:00,  1.78it/s]\n"
          ],
          "name": "stderr"
        },
        {
          "output_type": "stream",
          "text": [
            "Epoch: [26/30], train loss: 0.000419\n",
            "Epoch: [26/30], test accuracy: 0.981100, loss: 0.053034\n"
          ],
          "name": "stdout"
        },
        {
          "output_type": "stream",
          "text": [
            "  0%|          | 0/468 [00:00<?, ?it/s]"
          ],
          "name": "stderr"
        },
        {
          "output_type": "stream",
          "text": [
            "Epoch: [27/30], Batch: [1/468], train accuracy: 0.984375, loss: 0.000349\n"
          ],
          "name": "stdout"
        },
        {
          "output_type": "stream",
          "text": [
            " 21%|██▏       | 100/468 [00:56<03:10,  1.93it/s]"
          ],
          "name": "stderr"
        },
        {
          "output_type": "stream",
          "text": [
            "Epoch: [27/30], Batch: [101/468], train accuracy: 0.984375, loss: 0.000442\n"
          ],
          "name": "stdout"
        },
        {
          "output_type": "stream",
          "text": [
            " 43%|████▎     | 200/468 [01:51<02:19,  1.93it/s]"
          ],
          "name": "stderr"
        },
        {
          "output_type": "stream",
          "text": [
            "Epoch: [27/30], Batch: [201/468], train accuracy: 0.984375, loss: 0.000436\n"
          ],
          "name": "stdout"
        },
        {
          "output_type": "stream",
          "text": [
            " 64%|██████▍   | 300/468 [02:49<01:28,  1.89it/s]"
          ],
          "name": "stderr"
        },
        {
          "output_type": "stream",
          "text": [
            "Epoch: [27/30], Batch: [301/468], train accuracy: 0.968750, loss: 0.000708\n"
          ],
          "name": "stdout"
        },
        {
          "output_type": "stream",
          "text": [
            " 85%|████████▌ | 400/468 [03:45<00:35,  1.90it/s]"
          ],
          "name": "stderr"
        },
        {
          "output_type": "stream",
          "text": [
            "Epoch: [27/30], Batch: [401/468], train accuracy: 0.968750, loss: 0.000664\n"
          ],
          "name": "stdout"
        },
        {
          "output_type": "stream",
          "text": [
            "100%|██████████| 468/468 [04:24<00:00,  1.77it/s]\n"
          ],
          "name": "stderr"
        },
        {
          "output_type": "stream",
          "text": [
            "Epoch: [27/30], train loss: 0.000456\n",
            "Epoch: [27/30], test accuracy: 0.982600, loss: 0.052301\n"
          ],
          "name": "stdout"
        },
        {
          "output_type": "stream",
          "text": [
            "  0%|          | 0/468 [00:00<?, ?it/s]"
          ],
          "name": "stderr"
        },
        {
          "output_type": "stream",
          "text": [
            "Epoch: [28/30], Batch: [1/468], train accuracy: 0.984375, loss: 0.000489\n"
          ],
          "name": "stdout"
        },
        {
          "output_type": "stream",
          "text": [
            " 21%|██▏       | 100/468 [00:56<03:10,  1.93it/s]"
          ],
          "name": "stderr"
        },
        {
          "output_type": "stream",
          "text": [
            "Epoch: [28/30], Batch: [101/468], train accuracy: 0.960938, loss: 0.000470\n"
          ],
          "name": "stdout"
        },
        {
          "output_type": "stream",
          "text": [
            " 43%|████▎     | 200/468 [01:52<02:23,  1.87it/s]"
          ],
          "name": "stderr"
        },
        {
          "output_type": "stream",
          "text": [
            "Epoch: [28/30], Batch: [201/468], train accuracy: 0.984375, loss: 0.000511\n"
          ],
          "name": "stdout"
        },
        {
          "output_type": "stream",
          "text": [
            " 64%|██████▍   | 300/468 [02:49<01:27,  1.92it/s]"
          ],
          "name": "stderr"
        },
        {
          "output_type": "stream",
          "text": [
            "Epoch: [28/30], Batch: [301/468], train accuracy: 0.976562, loss: 0.000431\n"
          ],
          "name": "stdout"
        },
        {
          "output_type": "stream",
          "text": [
            " 85%|████████▌ | 400/468 [03:45<00:35,  1.92it/s]"
          ],
          "name": "stderr"
        },
        {
          "output_type": "stream",
          "text": [
            "Epoch: [28/30], Batch: [401/468], train accuracy: 0.984375, loss: 0.000374\n"
          ],
          "name": "stdout"
        },
        {
          "output_type": "stream",
          "text": [
            "100%|██████████| 468/468 [04:24<00:00,  1.77it/s]\n"
          ],
          "name": "stderr"
        },
        {
          "output_type": "stream",
          "text": [
            "Epoch: [28/30], train loss: 0.000397\n",
            "Epoch: [28/30], test accuracy: 0.982600, loss: 0.049967\n"
          ],
          "name": "stdout"
        },
        {
          "output_type": "stream",
          "text": [
            "  0%|          | 0/468 [00:00<?, ?it/s]"
          ],
          "name": "stderr"
        },
        {
          "output_type": "stream",
          "text": [
            "Epoch: [29/30], Batch: [1/468], train accuracy: 0.968750, loss: 0.000397\n"
          ],
          "name": "stdout"
        },
        {
          "output_type": "stream",
          "text": [
            " 21%|██▏       | 100/468 [00:56<03:10,  1.93it/s]"
          ],
          "name": "stderr"
        },
        {
          "output_type": "stream",
          "text": [
            "Epoch: [29/30], Batch: [101/468], train accuracy: 0.968750, loss: 0.000515\n"
          ],
          "name": "stdout"
        },
        {
          "output_type": "stream",
          "text": [
            " 43%|████▎     | 200/468 [01:53<02:22,  1.88it/s]"
          ],
          "name": "stderr"
        },
        {
          "output_type": "stream",
          "text": [
            "Epoch: [29/30], Batch: [201/468], train accuracy: 0.976562, loss: 0.000448\n"
          ],
          "name": "stdout"
        },
        {
          "output_type": "stream",
          "text": [
            " 64%|██████▍   | 300/468 [02:49<01:28,  1.90it/s]"
          ],
          "name": "stderr"
        },
        {
          "output_type": "stream",
          "text": [
            "Epoch: [29/30], Batch: [301/468], train accuracy: 1.000000, loss: 0.000400\n"
          ],
          "name": "stdout"
        },
        {
          "output_type": "stream",
          "text": [
            " 85%|████████▌ | 400/468 [03:45<00:35,  1.92it/s]"
          ],
          "name": "stderr"
        },
        {
          "output_type": "stream",
          "text": [
            "Epoch: [29/30], Batch: [401/468], train accuracy: 0.976562, loss: 0.000599\n"
          ],
          "name": "stdout"
        },
        {
          "output_type": "stream",
          "text": [
            "100%|██████████| 468/468 [04:24<00:00,  1.77it/s]\n"
          ],
          "name": "stderr"
        },
        {
          "output_type": "stream",
          "text": [
            "Epoch: [29/30], train loss: nan\n",
            "Epoch: [29/30], test accuracy: 0.982100, loss: 0.048559\n"
          ],
          "name": "stdout"
        },
        {
          "output_type": "stream",
          "text": [
            "  0%|          | 0/468 [00:00<?, ?it/s]"
          ],
          "name": "stderr"
        },
        {
          "output_type": "stream",
          "text": [
            "Epoch: [30/30], Batch: [1/468], train accuracy: 0.960938, loss: 0.000543\n"
          ],
          "name": "stdout"
        },
        {
          "output_type": "stream",
          "text": [
            " 21%|██▏       | 100/468 [00:56<03:10,  1.93it/s]"
          ],
          "name": "stderr"
        },
        {
          "output_type": "stream",
          "text": [
            "Epoch: [30/30], Batch: [101/468], train accuracy: 0.976562, loss: 0.000458\n"
          ],
          "name": "stdout"
        },
        {
          "output_type": "stream",
          "text": [
            " 43%|████▎     | 200/468 [01:53<02:20,  1.91it/s]"
          ],
          "name": "stderr"
        },
        {
          "output_type": "stream",
          "text": [
            "Epoch: [30/30], Batch: [201/468], train accuracy: 0.976562, loss: 0.000439\n"
          ],
          "name": "stdout"
        },
        {
          "output_type": "stream",
          "text": [
            " 64%|██████▍   | 300/468 [02:49<01:27,  1.91it/s]"
          ],
          "name": "stderr"
        },
        {
          "output_type": "stream",
          "text": [
            "Epoch: [30/30], Batch: [301/468], train accuracy: 0.976562, loss: 0.000431\n"
          ],
          "name": "stdout"
        },
        {
          "output_type": "stream",
          "text": [
            " 85%|████████▌ | 400/468 [03:45<00:35,  1.93it/s]"
          ],
          "name": "stderr"
        },
        {
          "output_type": "stream",
          "text": [
            "Epoch: [30/30], Batch: [401/468], train accuracy: 0.992188, loss: 0.000359\n"
          ],
          "name": "stdout"
        },
        {
          "output_type": "stream",
          "text": [
            "100%|██████████| 468/468 [04:23<00:00,  1.77it/s]\n"
          ],
          "name": "stderr"
        },
        {
          "output_type": "stream",
          "text": [
            "Epoch: [30/30], train loss: nan\n",
            "Epoch: [30/30], test accuracy: 0.980900, loss: 0.060096\n"
          ],
          "name": "stdout"
        }
      ]
    }
  ]
}